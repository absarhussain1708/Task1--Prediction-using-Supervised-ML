{
 "cells": [
  {
   "cell_type": "markdown",
   "id": "VwzHsx120T8D",
   "metadata": {
    "id": "VwzHsx120T8D"
   },
   "source": [
    "# Prediction using Supervised ML\n",
    "Linear regression task to predict the percentage of a student based on the no. of study hours.\n",
    "What will be predicted score if a student studies for 9.25 hrs/ day? "
   ]
  },
  {
   "cell_type": "code",
   "execution_count": 1,
   "id": "9c3599e8",
   "metadata": {
    "id": "9c3599e8"
   },
   "outputs": [],
   "source": [
    "#importing the required libraries\n",
    "import numpy as np\n",
    "import pandas as pd\n",
    "import matplotlib.pyplot as plt\n",
    "from sklearn.model_selection import train_test_split\n",
    "from sklearn.linear_model import LinearRegression\n",
    "from sklearn.metrics import mean_squared_error\n",
    "%matplotlib inline\n",
    "plt.style.use('ggplot')"
   ]
  },
  {
   "cell_type": "code",
   "execution_count": 2,
   "id": "ecbe8076",
   "metadata": {
    "colab": {
     "base_uri": "https://localhost:8080/",
     "height": 203
    },
    "id": "ecbe8076",
    "outputId": "ad386850-bce9-43ad-dd74-dda650cd280c"
   },
   "outputs": [
    {
     "data": {
      "text/html": [
       "<div>\n",
       "<style scoped>\n",
       "    .dataframe tbody tr th:only-of-type {\n",
       "        vertical-align: middle;\n",
       "    }\n",
       "\n",
       "    .dataframe tbody tr th {\n",
       "        vertical-align: top;\n",
       "    }\n",
       "\n",
       "    .dataframe thead th {\n",
       "        text-align: right;\n",
       "    }\n",
       "</style>\n",
       "<table border=\"1\" class=\"dataframe\">\n",
       "  <thead>\n",
       "    <tr style=\"text-align: right;\">\n",
       "      <th></th>\n",
       "      <th>Hours</th>\n",
       "      <th>Scores</th>\n",
       "    </tr>\n",
       "  </thead>\n",
       "  <tbody>\n",
       "    <tr>\n",
       "      <th>0</th>\n",
       "      <td>2.5</td>\n",
       "      <td>21</td>\n",
       "    </tr>\n",
       "    <tr>\n",
       "      <th>1</th>\n",
       "      <td>5.1</td>\n",
       "      <td>47</td>\n",
       "    </tr>\n",
       "    <tr>\n",
       "      <th>2</th>\n",
       "      <td>3.2</td>\n",
       "      <td>27</td>\n",
       "    </tr>\n",
       "    <tr>\n",
       "      <th>3</th>\n",
       "      <td>8.5</td>\n",
       "      <td>75</td>\n",
       "    </tr>\n",
       "    <tr>\n",
       "      <th>4</th>\n",
       "      <td>3.5</td>\n",
       "      <td>30</td>\n",
       "    </tr>\n",
       "  </tbody>\n",
       "</table>\n",
       "</div>"
      ],
      "text/plain": [
       "   Hours  Scores\n",
       "0    2.5      21\n",
       "1    5.1      47\n",
       "2    3.2      27\n",
       "3    8.5      75\n",
       "4    3.5      30"
      ]
     },
     "execution_count": 2,
     "metadata": {},
     "output_type": "execute_result"
    }
   ],
   "source": [
    "#reading data into pandas dataframe\n",
    "df = pd.read_csv('http://bit.ly/w-data')\n",
    "df.head() #prints first 5 rows"
   ]
  },
  {
   "cell_type": "code",
   "execution_count": 3,
   "id": "5fc5dff8",
   "metadata": {
    "colab": {
     "base_uri": "https://localhost:8080/",
     "height": 299
    },
    "id": "5fc5dff8",
    "outputId": "c376ee96-b049-44dc-d8c1-11b45c1b0623"
   },
   "outputs": [
    {
     "data": {
      "image/png": "[encoded data removed]",
      "text/plain": [
       "<Figure size 432x288 with 1 Axes>"
      ]
     },
     "metadata": {},
     "output_type": "display_data"
    }
   ],
   "source": [
    "# plotting a scatter plot to get an idea about the data points\n",
    "\n",
    "plt.scatter(df['Hours'], df['Scores'], c='red' )\n",
    "plt.title('Hours vs Scores')\n",
    "plt.xlabel('Number of hours')\n",
    "plt.ylabel('Percentage obtained')\n",
    "plt.show()"
   ]
  },
  {
   "cell_type": "code",
   "execution_count": 4,
   "id": "065cf95a",
   "metadata": {
    "id": "065cf95a"
   },
   "outputs": [],
   "source": [
    "#split the data into features(X) and labels/target (y)\n",
    "X = df.iloc[:, :-1]\n",
    "y = df.iloc[:, 1]"
   ]
  },
  {
   "cell_type": "code",
   "execution_count": 5,
   "id": "NRgFTPgB1P6b",
   "metadata": {
    "id": "NRgFTPgB1P6b"
   },
   "outputs": [],
   "source": [
    "#split the data into traib and test dataset\n",
    "\n",
    "X_train, X_test, y_train, y_test = train_test_split(X, y, test_size=0.2, shuffle= True, random_state=42) "
   ]
  },
  {
   "cell_type": "code",
   "execution_count": 6,
   "id": "D0v34aR41KKd",
   "metadata": {
    "colab": {
     "base_uri": "https://localhost:8080/"
    },
    "id": "D0v34aR41KKd",
    "outputId": "8d0b8d32-1298-47d3-830e-27b69a4020db"
   },
   "outputs": [
    {
     "data": {
      "text/plain": [
       "LinearRegression()"
      ]
     },
     "execution_count": 6,
     "metadata": {},
     "output_type": "execute_result"
    }
   ],
   "source": [
    "#training the model\n",
    "\n",
    "reg = LinearRegression() #linear regression object\n",
    "reg.fit(X_train, y_train)"
   ]
  },
  {
   "cell_type": "code",
   "execution_count": 7,
   "id": "3fac3e79",
   "metadata": {
    "colab": {
     "base_uri": "https://localhost:8080/",
     "height": 299
    },
    "id": "3fac3e79",
    "outputId": "32668c51-4db3-4d27-c82b-8b071439d465"
   },
   "outputs": [
    {
     "data": {
      "image/png": "[encoded data removed]",
      "text/plain": [
       "<Figure size 432x288 with 1 Axes>"
      ]
     },
     "metadata": {},
     "output_type": "display_data"
    }
   ],
   "source": [
    "#plotting the regression line\n",
    "\n",
    "prediction_space = np.linspace(np.min(X_train), np.max(X_train))\n",
    "\n",
    "plt.plot(prediction_space, reg.predict(prediction_space) , color='black')\n",
    "plt.scatter(df['Hours'], df['Scores'], c='red' )\n",
    "plt.title('Regression Line for Hours vs Scores')\n",
    "plt.xlabel('Number of hours')\n",
    "plt.ylabel('Percentage obtained')\n",
    "\n",
    "plt.show()"
   ]
  },
  {
   "cell_type": "code",
   "execution_count": 14,
   "id": "391c8564",
   "metadata": {
    "colab": {
     "base_uri": "https://localhost:8080/",
     "height": 203
    },
    "id": "391c8564",
    "outputId": "4986e70c-109e-4efc-a0c0-addb80b17334"
   },
   "outputs": [
    {
     "data": {
      "text/html": [
       "<div>\n",
       "<style scoped>\n",
       "    .dataframe tbody tr th:only-of-type {\n",
       "        vertical-align: middle;\n",
       "    }\n",
       "\n",
       "    .dataframe tbody tr th {\n",
       "        vertical-align: top;\n",
       "    }\n",
       "\n",
       "    .dataframe thead th {\n",
       "        text-align: right;\n",
       "    }\n",
       "</style>\n",
       "<table border=\"1\" class=\"dataframe\">\n",
       "  <thead>\n",
       "    <tr style=\"text-align: right;\">\n",
       "      <th></th>\n",
       "      <th>Actual</th>\n",
       "      <th>Predicted</th>\n",
       "    </tr>\n",
       "  </thead>\n",
       "  <tbody>\n",
       "    <tr>\n",
       "      <th>8</th>\n",
       "      <td>81</td>\n",
       "      <td>83.188141</td>\n",
       "    </tr>\n",
       "    <tr>\n",
       "      <th>16</th>\n",
       "      <td>30</td>\n",
       "      <td>27.032088</td>\n",
       "    </tr>\n",
       "    <tr>\n",
       "      <th>0</th>\n",
       "      <td>21</td>\n",
       "      <td>27.032088</td>\n",
       "    </tr>\n",
       "    <tr>\n",
       "      <th>23</th>\n",
       "      <td>76</td>\n",
       "      <td>69.633232</td>\n",
       "    </tr>\n",
       "    <tr>\n",
       "      <th>11</th>\n",
       "      <td>62</td>\n",
       "      <td>59.951153</td>\n",
       "    </tr>\n",
       "  </tbody>\n",
       "</table>\n",
       "</div>"
      ],
      "text/plain": [
       "    Actual  Predicted\n",
       "8       81  83.188141\n",
       "16      30  27.032088\n",
       "0       21  27.032088\n",
       "23      76  69.633232\n",
       "11      62  59.951153"
      ]
     },
     "execution_count": 14,
     "metadata": {},
     "output_type": "execute_result"
    }
   ],
   "source": [
    "# making predictions and comparing actual vs predicted data\n",
    "test_df = pd.DataFrame()\n",
    "test_df['Actual'] = y_test\n",
    "test_df['Predicted'] = reg.predict(X_test)\n",
    "test_df"
   ]
  },
  {
   "cell_type": "code",
   "execution_count": 15,
   "id": "4db30cb5",
   "metadata": {
    "colab": {
     "base_uri": "https://localhost:8080/"
    },
    "id": "4db30cb5",
    "outputId": "75ecba59-a441-45de-f3f8-382c6a054f8e"
   },
   "outputs": [
    {
     "name": "stdout",
     "output_type": "stream",
     "text": [
      " Predicted score obtained when student studies for 9.25 hours is [92.38611528]\n"
     ]
    }
   ],
   "source": [
    "# to predict score for the student studying for 9.25 hours\n",
    "\n",
    "print(' Predicted score obtained when student studies for 9.25 hours is {}'.format(reg.predict([[9.25]])))"
   ]
  },
  {
   "cell_type": "code",
   "execution_count": 16,
   "id": "e670d968",
   "metadata": {
    "colab": {
     "base_uri": "https://localhost:8080/"
    },
    "id": "e670d968",
    "outputId": "7ef1899b-da5f-406a-d5fb-afacf08bc450"
   },
   "outputs": [
    {
     "name": "stdout",
     "output_type": "stream",
     "text": [
      "Accuracy of the linear regression model: 0.9678055545167994\n"
     ]
    }
   ],
   "source": [
    "# to find the accuracy of regression model\n",
    "\n",
    "model_accuracy = reg.score(X_test, y_test) # accuracy of the mode\n",
    "print('Accuracy of the linear regression model: {}'.format(model_accuracy))"
   ]
  },
  {
   "cell_type": "code",
   "execution_count": 17,
   "id": "c39cc953",
   "metadata": {
    "colab": {
     "base_uri": "https://localhost:8080/"
    },
    "id": "c39cc953",
    "outputId": "0ab2a719-7ca8-4fff-8732-baa393ecb7f6"
   },
   "outputs": [
    {
     "name": "stdout",
     "output_type": "stream",
     "text": [
      "Root mean square error: 4.352380006653288\n"
     ]
    }
   ],
   "source": [
    "y_pred = reg.predict(X_test)\n",
    "rmse = np.sqrt( mean_squared_error(y_test, y_pred))\n",
    "print('Root mean square error: {}'.format(rmse)) # root mean squared error"
   ]
  },
  {
   "cell_type": "markdown",
   "id": "ea4e4c98",
   "metadata": {
    "id": "ea4e4c98"
   },
   "source": [
    "# Cross validation\n",
    "if you're computing R squared on your test set, the R squared returned is dependent on the way that you split up the data!\n",
    "\n",
    "To combat this dependence on what is essentially an arbitrary split, we use a technique called cross-validation.\n",
    "\n",
    "As we split the dataset into five folds, we call this process 5-fold cross validation. "
   ]
  },
  {
   "cell_type": "code",
   "execution_count": 18,
   "id": "53fe1e61",
   "metadata": {
    "colab": {
     "base_uri": "https://localhost:8080/"
    },
    "id": "53fe1e61",
    "outputId": "4ef85db7-1957-42b0-d96f-d5d955bf1cdd"
   },
   "outputs": [
    {
     "data": {
      "text/plain": [
       "array([0.78626426, 0.97891923, 0.93182467, 0.96604831, 0.9273292 ])"
      ]
     },
     "execution_count": 18,
     "metadata": {},
     "output_type": "execute_result"
    }
   ],
   "source": [
    "from sklearn.model_selection import cross_val_score\n",
    "cv_results = cross_val_score(reg, X, y, cv =5) # 5-fold cross validation returns an array of cross_validation scores\n",
    "cv_results"
   ]
  },
  {
   "cell_type": "code",
   "execution_count": 19,
   "id": "d542e68b",
   "metadata": {
    "colab": {
     "base_uri": "https://localhost:8080/"
    },
    "id": "d542e68b",
    "outputId": "2670103b-b29a-4f03-9373-2f2cd28bc6eb"
   },
   "outputs": [
    {
     "data": {
      "text/plain": [
       "0.9180771341891049"
      ]
     },
     "execution_count": 19,
     "metadata": {},
     "output_type": "execute_result"
    }
   ],
   "source": [
    "np.mean(cv_results) # average of cross validation results"
   ]
  }
 ],
 "metadata": {
  "colab": {
   "name": "Task 1- Prediction using Supervised ML.ipynb",
   "provenance": []
  },
  "kernelspec": {
   "display_name": "Python 3",
   "language": "python",
   "name": "python3"
  },
  "language_info": {
   "codemirror_mode": {
    "name": "ipython",
    "version": 3
   },
   "file_extension": ".py",
   "mimetype": "text/x-python",
   "name": "python",
   "nbconvert_exporter": "python",
   "pygments_lexer": "ipython3",
   "version": "3.8.8"
  }
 },
 "nbformat": 4,
 "nbformat_minor": 5
}
